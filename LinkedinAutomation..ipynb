{
 "cells": [
  {
   "cell_type": "code",
   "execution_count": 1,
   "id": "f987577b",
   "metadata": {},
   "outputs": [
    {
     "data": {
      "text/plain": [
       "'\\nfrom selenium import webdriver\\nfrom selenium.webdriver.chrome.service import Service\\nfrom webdriver_manager.chrome import ChromeDriverManager\\nfrom selenium.webdriver.common.by import By\\n'"
      ]
     },
     "execution_count": 1,
     "metadata": {},
     "output_type": "execute_result"
    }
   ],
   "source": [
    "\"\"\"\n",
    "from selenium import webdriver\n",
    "from selenium.webdriver.chrome.service import Service\n",
    "from webdriver_manager.chrome import ChromeDriverManager\n",
    "from selenium.webdriver.common.by import By\n",
    "\"\"\""
   ]
  },
  {
   "cell_type": "code",
   "execution_count": 2,
   "id": "da844d33",
   "metadata": {},
   "outputs": [
    {
     "name": "stderr",
     "output_type": "stream",
     "text": [
      "\n",
      "\n",
      "====== WebDriver manager ======\n",
      "Current google-chrome version is 99.0.4844\n",
      "Get LATEST chromedriver version for 99.0.4844 google-chrome\n",
      "Trying to download new driver from https://chromedriver.storage.googleapis.com/99.0.4844.51/chromedriver_win32.zip\n",
      "Driver has been saved in cache [C:\\Users\\HP\\.wdm\\drivers\\chromedriver\\win32\\99.0.4844.51]\n"
     ]
    }
   ],
   "source": [
    "import os,sys,time,random\n",
    "import requests\n",
    "from bs4 import BeautifulSoup\n",
    "from selenium import webdriver\n",
    "from selenium.webdriver.common.by import By\n",
    "from selenium.webdriver.chrome.service import Service\n",
    "from webdriver_manager.chrome import ChromeDriverManager\n",
    "driver = webdriver.Chrome(service=Service(ChromeDriverManager().install()))\n",
    "driver.get(\"https://www.linkedin.com/uas/login\")"
   ]
  },
  {
   "cell_type": "code",
   "execution_count": 3,
   "id": "72c9727f",
   "metadata": {},
   "outputs": [
    {
     "name": "stderr",
     "output_type": "stream",
     "text": [
      "C:\\Users\\HP\\AppData\\Local\\Temp/ipykernel_42644/3785649534.py:8: DeprecationWarning: find_element_by_* commands are deprecated. Please use find_element() instead\n",
      "  elementID=driver.find_element_by_id('username')\n",
      "C:\\Users\\HP\\AppData\\Local\\Temp/ipykernel_42644/3785649534.py:14: DeprecationWarning: find_element_by_* commands are deprecated. Please use find_element() instead\n",
      "  elementID=driver.find_element_by_id('password')\n"
     ]
    }
   ],
   "source": [
    "file =open(r'C:\\Users\\HP\\Desktop\\icons\\Linkedin AutoMation\\config.txt')\n",
    "lines =file.readlines()\n",
    "username= lines[0]\n",
    "password=lines[1]\n",
    "\n",
    "time.sleep(1)\n",
    "\n",
    "elementID=driver.find_element_by_id('username')\n",
    "elementID.send_keys(username) \n",
    "\n",
    "\n",
    "time.sleep(1)\n",
    "\n",
    "elementID=driver.find_element_by_id('password')\n",
    "elementID.send_keys(password) \n",
    "\n",
    "\n",
    "time.sleep(1)"
   ]
  },
  {
   "cell_type": "code",
   "execution_count": 4,
   "id": "29f31785",
   "metadata": {},
   "outputs": [],
   "source": [
    "vistedProfileId ='/in/shreyansh-kumar-jain-0a279b1ab/'\n",
    "fullLink='https://www.linkedin.com'+vistedProfileId\n",
    "driver.get(fullLink)"
   ]
  },
  {
   "cell_type": "code",
   "execution_count": 5,
   "id": "276d0dcd",
   "metadata": {},
   "outputs": [],
   "source": [
    " \n",
    "#list of viewed and profiles queued....\n",
    "vistedProfiles = []\n",
    "profilesQueued  = []"
   ]
  },
  {
   "cell_type": "code",
   "execution_count": 6,
   "id": "8c9a5087",
   "metadata": {},
   "outputs": [],
   "source": [
    "\n",
    "\n",
    "def getNewProfileIds(soup,profilesQueued):\n",
    "    #temporarie proflie..\n",
    "    profliesID=[]\n",
    "    peopleAlsoviwed=soup.find('section',{'class':'pt4 pb3 ph4'})\n",
    "    #print(peopleAlsoviwed)\n",
    "    #all_link=[]\n",
    "    all_links=peopleAlsoviwed.findAll('a',{'class':'ember-view display-flex link-without-hover-visited'})\n",
    "   # print(all_links)\n",
    "    for link in all_links:\n",
    "        userID=link.get('href')\n",
    "        if((userID not in profilesQueued) and (userID not in vistedProfiles)):\n",
    "            profliesID.append(userID)\n",
    "    return profliesID    "
   ]
  },
  {
   "cell_type": "code",
   "execution_count": 7,
   "id": "afd5f282",
   "metadata": {},
   "outputs": [
    {
     "data": {
      "text/plain": [
       "['/in/meet-s-b812501b1/',\n",
       " '/in/nagagopi-karanki-6a24a9227/',\n",
       " '/in/samruddhi-malegaonkar-672a98201/',\n",
       " '/in/shivani-kankal-705a02220/',\n",
       " '/in/namandeep-singh-89a02b146/']"
      ]
     },
     "execution_count": 7,
     "metadata": {},
     "output_type": "execute_result"
    }
   ],
   "source": [
    "profilesQueued=getNewProfileIds(BeautifulSoup(driver.page_source),profilesQueued)\n",
    "profilesQueued\n"
   ]
  },
  {
   "cell_type": "code",
   "execution_count": null,
   "id": "cb0bb932",
   "metadata": {},
   "outputs": [
    {
     "name": "stderr",
     "output_type": "stream",
     "text": [
      "C:\\Users\\HP\\AppData\\Local\\Temp/ipykernel_42644/3560751011.py:8: DeprecationWarning: find_element_by_class_name is deprecated. Please use find_element(by=By.CLASS_NAME, value=name) instead\n",
      "  driver.find_element_by_class_name('artdeco-button--primary').click()\n",
      "C:\\Users\\HP\\AppData\\Local\\Temp/ipykernel_42644/3560751011.py:9: DeprecationWarning: find_element_by_class_name is deprecated. Please use find_element(by=By.CLASS_NAME, value=name) instead\n",
      "  driver.find_element_by_class_name('artdeco-button--secondary').click()\n",
      "C:\\Users\\HP\\AppData\\Local\\Temp/ipykernel_42644/3560751011.py:13: DeprecationWarning: find_element_by_* commands are deprecated. Please use find_element() instead\n",
      "  elementID=driver.find_element_by_id('custom-message')\n",
      "C:\\Users\\HP\\AppData\\Local\\Temp/ipykernel_42644/3560751011.py:15: DeprecationWarning: find_element_by_class_name is deprecated. Please use find_element(by=By.CLASS_NAME, value=name) instead\n",
      "  driver.find_element_by_class_name('ml1').click()\n"
     ]
    },
    {
     "name": "stdout",
     "output_type": "stream",
     "text": [
      "error\n"
     ]
    }
   ],
   "source": [
    "     \n",
    "while profilesQueued:\n",
    "    try:\n",
    "        vistedProfileId = profilesQueued.pop()\n",
    "        vistedProfiles.append(vistedProfileId)\n",
    "        fullLink ='https://www.linkedin.com'+vistedProfileId\n",
    "        driver.get(fullLink)\n",
    "        time.sleep(0.5)\n",
    "        driver.find_element_by_class_name('artdeco-button--primary').click()\n",
    "        driver.find_element_by_class_name('artdeco-button--secondary').click()\n",
    "        \n",
    "        customMessage=\"\"\"Hi this side is shreyansh,\n",
    "        THIS IS LINKEDIN AUTOMATION BOT.I thought it would be nice to reach out to connect with you and share our networks.Thank you and hope all is well!\"\"\"\n",
    "        elementID=driver.find_element_by_id('custom-message')\n",
    "        elementID.send_keys(customMessage)\n",
    "        driver.find_element_by_class_name('ml1').click()\n",
    "        \n",
    "        #Add the ID to the visiteduserfile...\n",
    "        with open('visitedUsers.txt','a')as vistedUsersFile:\n",
    "            vistedUsersFile.write(str(vistedProfileId)+'\\n')\n",
    "        vistedUsersFile.close()\n",
    "        \n",
    "        #get new profile id\n",
    "        soup =BeautifulSoup(driver.page_source)\n",
    "        try:\n",
    "            profilesQueued.extend(getNewProfileIds(soup,profilesQueued))\n",
    "        except:\n",
    "            print('continue')\n",
    "        \n",
    "        #pause\n",
    "        time.sleep(random.unifor(3,7))\n",
    "        #otherwise sleepy to make sure that linkedin server not detected you\n",
    "        \n",
    "        if(len(vistedProfiles)%50==0):\n",
    "            with open('profilesQueued.txt','a') as vistedUsersFile:\n",
    "                vistedUsersFile.write(str(vistedProfileId)+'\\n')\n",
    "            vistedUsersFile.close()\n",
    "            print(\"100,000 Times Dones!!!!\")\n",
    "                \n",
    "  \n",
    "    except:\n",
    "        print(\"error\")\n",
    "            \n",
    "        "
   ]
  },
  {
   "cell_type": "code",
   "execution_count": null,
   "id": "708e7b86",
   "metadata": {},
   "outputs": [],
   "source": [
    "profilesQueued"
   ]
  },
  {
   "cell_type": "code",
   "execution_count": null,
   "id": "029af354",
   "metadata": {},
   "outputs": [],
   "source": []
  },
  {
   "cell_type": "code",
   "execution_count": null,
   "id": "6a6a59cb",
   "metadata": {},
   "outputs": [],
   "source": []
  },
  {
   "cell_type": "code",
   "execution_count": null,
   "id": "e572fe80",
   "metadata": {},
   "outputs": [],
   "source": []
  }
 ],
 "metadata": {
  "kernelspec": {
   "display_name": "Python 3 (ipykernel)",
   "language": "python",
   "name": "python3"
  },
  "language_info": {
   "codemirror_mode": {
    "name": "ipython",
    "version": 3
   },
   "file_extension": ".py",
   "mimetype": "text/x-python",
   "name": "python",
   "nbconvert_exporter": "python",
   "pygments_lexer": "ipython3",
   "version": "3.9.7"
  }
 },
 "nbformat": 4,
 "nbformat_minor": 5
}
